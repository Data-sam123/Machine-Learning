{
 "cells": [
  {
   "cell_type": "code",
   "execution_count": null,
   "metadata": {
    "id": "WuwNDAQLlXhz"
   },
   "outputs": [],
   "source": [
    "#pip install requests"
   ]
  },
  {
   "cell_type": "code",
   "execution_count": null,
   "metadata": {
    "id": "Rc2aQdhClcOs"
   },
   "outputs": [],
   "source": [
    "#pip install bs4"
   ]
  },
  {
   "cell_type": "code",
   "execution_count": 1,
   "metadata": {
    "id": "32T59caFoez1"
   },
   "outputs": [],
   "source": [
    "import requests\n",
    "from bs4 import BeautifulSoup"
   ]
  },
  {
   "cell_type": "code",
   "execution_count": 2,
   "metadata": {
    "id": "VokN5Ij5lkwk"
   },
   "outputs": [],
   "source": [
    "page = requests.get(\"https://forecast.weather.gov/MapClick.php?lat=37.7772&lon=-122.4168\")"
   ]
  },
  {
   "cell_type": "code",
   "execution_count": 7,
   "metadata": {},
   "outputs": [
    {
     "data": {
      "text/plain": [
       "<div class=\"panel panel-default\" id=\"seven-day-forecast\">\n",
       "<div class=\"panel-heading\">\n",
       "<b>Extended Forecast for</b>\n",
       "<h2 class=\"panel-title\">\n",
       "                San Francisco CA    </h2>\n",
       "</div>\n",
       "<div class=\"panel-body\" id=\"seven-day-forecast-body\">\n",
       "<div id=\"seven-day-forecast-container\"><ul class=\"list-unstyled\" id=\"seven-day-forecast-list\"><li class=\"forecast-tombstone\"><div class=\"tombstone-container\"><p class=\"period-name\">Today</p><p><img alt=\"Today: Partly sunny, with a high near 67. West wind 7 to 14 mph, with gusts as high as 21 mph. \" class=\"forecast-icon\" src=\"newimages/medium/bkn.png\" title=\"Today: Partly sunny, with a high near 67. West wind 7 to 14 mph, with gusts as high as 21 mph. \"/></p><p class=\"temp temp-high\">High: 67 °F</p><p class=\"short-desc\">Partly Sunny</p></div></li><li class=\"forecast-tombstone\"><div class=\"tombstone-container\"><p class=\"period-name\">Tonight</p><p><img alt=\"Tonight: Partly cloudy, with a low around 54. West wind 6 to 11 mph becoming light and variable  after midnight. Winds could gust as high as 21 mph. \" class=\"forecast-icon\" src=\"newimages/medium/nsct.png\" title=\"Tonight: Partly cloudy, with a low around 54. West wind 6 to 11 mph becoming light and variable  after midnight. Winds could gust as high as 21 mph. \"/></p><p class=\"temp temp-low\">Low: 54 °F</p><p class=\"short-desc\">Partly Cloudy</p></div></li><li class=\"forecast-tombstone\"><div class=\"tombstone-container\"><p class=\"period-name\">Tuesday</p><p><img alt=\"Tuesday: Sunny, with a high near 80. Light west wind increasing to 10 to 15 mph in the morning. Winds could gust as high as 23 mph. \" class=\"forecast-icon\" src=\"newimages/medium/few.png\" title=\"Tuesday: Sunny, with a high near 80. Light west wind increasing to 10 to 15 mph in the morning. Winds could gust as high as 23 mph. \"/></p><p class=\"temp temp-high\">High: 80 °F</p><p class=\"short-desc\">Sunny</p></div></li><li class=\"forecast-tombstone\"><div class=\"tombstone-container\"><p class=\"period-name\">Tuesday Night</p><p><img alt=\"Tuesday Night: Mostly clear, with a low around 58. West wind 5 to 14 mph, with gusts as high as 23 mph. \" class=\"forecast-icon\" src=\"newimages/medium/nfew.png\" title=\"Tuesday Night: Mostly clear, with a low around 58. West wind 5 to 14 mph, with gusts as high as 23 mph. \"/></p><p class=\"temp temp-low\">Low: 58 °F</p><p class=\"short-desc\">Mostly Clear</p></div></li><li class=\"forecast-tombstone\"><div class=\"tombstone-container\"><p class=\"period-name\">Wednesday</p><p><img alt=\"Wednesday: Sunny, with a high near 75. Light west wind increasing to 5 to 10 mph in the morning. \" class=\"forecast-icon\" src=\"newimages/medium/few.png\" title=\"Wednesday: Sunny, with a high near 75. Light west wind increasing to 5 to 10 mph in the morning. \"/></p><p class=\"temp temp-high\">High: 75 °F</p><p class=\"short-desc\">Sunny</p></div></li><li class=\"forecast-tombstone\"><div class=\"tombstone-container\"><p class=\"period-name\">Wednesday Night</p><p><img alt=\"Wednesday Night: Mostly clear, with a low around 54.\" class=\"forecast-icon\" src=\"newimages/medium/nfew.png\" title=\"Wednesday Night: Mostly clear, with a low around 54.\"/></p><p class=\"temp temp-low\">Low: 54 °F</p><p class=\"short-desc\">Mostly Clear</p></div></li><li class=\"forecast-tombstone\"><div class=\"tombstone-container\"><p class=\"period-name\">Thursday</p><p><img alt=\"Thursday: Sunny, with a high near 68.\" class=\"forecast-icon\" src=\"newimages/medium/few.png\" title=\"Thursday: Sunny, with a high near 68.\"/></p><p class=\"temp temp-high\">High: 68 °F</p><p class=\"short-desc\">Sunny</p></div></li><li class=\"forecast-tombstone\"><div class=\"tombstone-container\"><p class=\"period-name\">Thursday Night</p><p><img alt=\"Thursday Night: Mostly clear, with a low around 53.\" class=\"forecast-icon\" src=\"newimages/medium/nfew.png\" title=\"Thursday Night: Mostly clear, with a low around 53.\"/></p><p class=\"temp temp-low\">Low: 53 °F</p><p class=\"short-desc\">Mostly Clear</p></div></li><li class=\"forecast-tombstone\"><div class=\"tombstone-container\"><p class=\"period-name\">Friday</p><p><img alt=\"Friday: Sunny, with a high near 68.\" class=\"forecast-icon\" src=\"newimages/medium/few.png\" title=\"Friday: Sunny, with a high near 68.\"/></p><p class=\"temp temp-high\">High: 68 °F</p><p class=\"short-desc\">Sunny</p></div></li></ul></div>\n",
       "<script type=\"text/javascript\">\n",
       "// equalize forecast heights\n",
       "$(function () {\n",
       "    var maxh = 0;\n",
       "    $(\".forecast-tombstone .short-desc\").each(function () {\n",
       "        var h = $(this).height();\n",
       "        if (h > maxh) { maxh = h; }\n",
       "    });\n",
       "    $(\".forecast-tombstone .short-desc\").height(maxh);\n",
       "});\n",
       "</script> </div>\n",
       "</div>"
      ]
     },
     "execution_count": 7,
     "metadata": {},
     "output_type": "execute_result"
    }
   ],
   "source": [
    "seven_day = soup.find(id=\"seven-day-forecast\")\n",
    "seven_day"
   ]
  },
  {
   "cell_type": "code",
   "execution_count": null,
   "metadata": {
    "colab": {
     "base_uri": "https://localhost:8080/"
    },
    "executionInfo": {
     "elapsed": 1543,
     "status": "ok",
     "timestamp": 1660116245226,
     "user": {
      "displayName": "Priyanka Awaje",
      "userId": "04948741848315503765"
     },
     "user_tz": -330
    },
    "id": "-0l64EB-oVod",
    "outputId": "cc37806b-d9c2-4595-e650-dbc40e88fac1"
   },
   "outputs": [
    {
     "name": "stdout",
     "output_type": "stream",
     "text": [
      "<div class=\"tombstone-container\">\n",
      " <p class=\"period-name\">\n",
      "  Overnight\n",
      "  <br/>\n",
      "  <br/>\n",
      " </p>\n",
      " <p>\n",
      "  <img alt=\"Overnight: Mostly cloudy, with a low around 60. West wind around 14 mph, with gusts as high as 18 mph. \" class=\"forecast-icon\" src=\"newimages/medium/nbkn.png\" title=\"Overnight: Mostly cloudy, with a low around 60. West wind around 14 mph, with gusts as high as 18 mph. \"/>\n",
      " </p>\n",
      " <p class=\"short-desc\">\n",
      "  Mostly Cloudy\n",
      " </p>\n",
      " <p class=\"temp temp-low\">\n",
      "  Low: 60 °F\n",
      " </p>\n",
      "</div>\n"
     ]
    }
   ],
   "source": [
    "page = requests.get(\"https://forecast.weather.gov/MapClick.php?lat=37.7772&lon=-122.4168\")\n",
    "soup = BeautifulSoup(page.content, 'html.parser')\n",
    "seven_day = soup.find(id=\"seven-day-forecast\")\n",
    "forecast_items = seven_day.find_all(class_=\"tombstone-container\")\n",
    "tonight = forecast_items[0]\n",
    "print(tonight.prettify())"
   ]
  },
  {
   "cell_type": "code",
   "execution_count": null,
   "metadata": {
    "colab": {
     "base_uri": "https://localhost:8080/"
    },
    "executionInfo": {
     "elapsed": 665,
     "status": "ok",
     "timestamp": 1660116310143,
     "user": {
      "displayName": "Priyanka Awaje",
      "userId": "04948741848315503765"
     },
     "user_tz": -330
    },
    "id": "41i3y1BSo4fA",
    "outputId": "c7374b7c-7579-4f5a-ae39-ebfe8e342862"
   },
   "outputs": [
    {
     "name": "stdout",
     "output_type": "stream",
     "text": [
      "Overnight\n",
      "Mostly Cloudy\n",
      "Low: 60 °F\n"
     ]
    }
   ],
   "source": [
    "period = tonight.find(class_=\"period-name\").get_text()\n",
    "short_desc = tonight.find(class_=\"short-desc\").get_text()\n",
    "temp = tonight.find(class_=\"temp\").get_text()\n",
    "print(period)\n",
    "print(short_desc)\n",
    "print(temp)"
   ]
  },
  {
   "cell_type": "code",
   "execution_count": null,
   "metadata": {
    "colab": {
     "base_uri": "https://localhost:8080/"
    },
    "executionInfo": {
     "elapsed": 4,
     "status": "ok",
     "timestamp": 1660116330501,
     "user": {
      "displayName": "Priyanka Awaje",
      "userId": "04948741848315503765"
     },
     "user_tz": -330
    },
    "id": "0RBZevS8oeb_",
    "outputId": "3aefd709-41e7-407d-a16b-3b4f22f5b6a2"
   },
   "outputs": [
    {
     "name": "stdout",
     "output_type": "stream",
     "text": [
      "Overnight: Mostly cloudy, with a low around 60. West wind around 14 mph, with gusts as high as 18 mph. \n"
     ]
    }
   ],
   "source": [
    "img = tonight.find(\"img\")\n",
    "desc = img['title']\n",
    "print(desc)"
   ]
  },
  {
   "cell_type": "code",
   "execution_count": null,
   "metadata": {
    "colab": {
     "base_uri": "https://localhost:8080/"
    },
    "executionInfo": {
     "elapsed": 5,
     "status": "ok",
     "timestamp": 1660116357046,
     "user": {
      "displayName": "Priyanka Awaje",
      "userId": "04948741848315503765"
     },
     "user_tz": -330
    },
    "id": "hH-TnjMmpOHF",
    "outputId": "7c07a060-4ca5-464d-b74a-88591a154625"
   },
   "outputs": [
    {
     "data": {
      "text/plain": [
       "['Overnight',\n",
       " 'Wednesday',\n",
       " 'WednesdayNight',\n",
       " 'Thursday',\n",
       " 'ThursdayNight',\n",
       " 'Friday',\n",
       " 'FridayNight',\n",
       " 'Saturday',\n",
       " 'SaturdayNight']"
      ]
     },
     "execution_count": 6,
     "metadata": {},
     "output_type": "execute_result"
    }
   ],
   "source": [
    "period_tags = seven_day.select(\".tombstone-container .period-name\")\n",
    "periods = [pt.get_text() for pt in period_tags]\n",
    "periods"
   ]
  },
  {
   "cell_type": "code",
   "execution_count": null,
   "metadata": {
    "colab": {
     "base_uri": "https://localhost:8080/"
    },
    "executionInfo": {
     "elapsed": 659,
     "status": "ok",
     "timestamp": 1660116405367,
     "user": {
      "displayName": "Priyanka Awaje",
      "userId": "04948741848315503765"
     },
     "user_tz": -330
    },
    "id": "N852k5kspUd5",
    "outputId": "199c77a8-7c5f-4243-a69a-064784533cb6"
   },
   "outputs": [
    {
     "name": "stdout",
     "output_type": "stream",
     "text": [
      "['Mostly Cloudy', 'Mostly Sunnythen Sunnyand Breezy', 'IncreasingClouds', 'Mostly Sunnythen Sunnyand Breezy', 'Mostly Clearand Breezythen PartlyCloudy', 'Mostly Sunnythen Sunnyand Breezy', 'Mostly Clearand Breezythen MostlyClear', 'Sunny', 'Mostly Clear']\n",
      "['Low: 60 °F', 'High: 72 °F', 'Low: 59 °F', 'High: 72 °F', 'Low: 58 °F', 'High: 71 °F', 'Low: 58 °F', 'High: 72 °F', 'Low: 58 °F']\n",
      "['Overnight: Mostly cloudy, with a low around 60. West wind around 14 mph, with gusts as high as 18 mph. ', 'Wednesday: Partly sunny, then gradually becoming sunny, with a high near 72. Breezy, with a west wind 7 to 12 mph increasing to 17 to 22 mph in the afternoon. Winds could gust as high as 29 mph. ', 'Wednesday Night: Increasing clouds, with a low around 59. West southwest wind 11 to 21 mph, with gusts as high as 28 mph. ', 'Thursday: Mostly sunny, with a high near 72. Breezy, with a west wind 13 to 23 mph, with gusts as high as 31 mph. ', 'Thursday Night: Partly cloudy, with a low around 58. Breezy, with a west wind 16 to 25 mph, with gusts as high as 32 mph. ', 'Friday: Mostly sunny, with a high near 71. Breezy. ', 'Friday Night: Mostly clear, with a low around 58. Breezy. ', 'Saturday: Sunny, with a high near 72.', 'Saturday Night: Mostly clear, with a low around 58.']\n"
     ]
    }
   ],
   "source": [
    "short_descs = [sd.get_text() for sd in seven_day.select(\".tombstone-container .short-desc\")]\n",
    "temps = [t.get_text() for t in seven_day.select(\".tombstone-container .temp\")]\n",
    "descs = [d[\"title\"] for d in seven_day.select(\".tombstone-container img\")]\n",
    "print(short_descs)\n",
    "print(temps)\n",
    "print(descs)"
   ]
  },
  {
   "cell_type": "code",
   "execution_count": null,
   "metadata": {
    "colab": {
     "base_uri": "https://localhost:8080/",
     "height": 331
    },
    "executionInfo": {
     "elapsed": 1445,
     "status": "ok",
     "timestamp": 1660116437013,
     "user": {
      "displayName": "Priyanka Awaje",
      "userId": "04948741848315503765"
     },
     "user_tz": -330
    },
    "id": "haJ_QzIupa8y",
    "outputId": "abda85e8-82c3-45c2-9bd8-403cfc4607f2"
   },
   "outputs": [
    {
     "data": {
      "text/html": [
       "\n",
       "  <div id=\"df-80923918-d24e-4d11-b32a-f310732967a0\">\n",
       "    <div class=\"colab-df-container\">\n",
       "      <div>\n",
       "<style scoped>\n",
       "    .dataframe tbody tr th:only-of-type {\n",
       "        vertical-align: middle;\n",
       "    }\n",
       "\n",
       "    .dataframe tbody tr th {\n",
       "        vertical-align: top;\n",
       "    }\n",
       "\n",
       "    .dataframe thead th {\n",
       "        text-align: right;\n",
       "    }\n",
       "</style>\n",
       "<table border=\"1\" class=\"dataframe\">\n",
       "  <thead>\n",
       "    <tr style=\"text-align: right;\">\n",
       "      <th></th>\n",
       "      <th>period</th>\n",
       "      <th>short_desc</th>\n",
       "      <th>temp</th>\n",
       "      <th>desc</th>\n",
       "    </tr>\n",
       "  </thead>\n",
       "  <tbody>\n",
       "    <tr>\n",
       "      <th>0</th>\n",
       "      <td>Overnight</td>\n",
       "      <td>Mostly Cloudy</td>\n",
       "      <td>Low: 60 °F</td>\n",
       "      <td>Overnight: Mostly cloudy, with a low around 60...</td>\n",
       "    </tr>\n",
       "    <tr>\n",
       "      <th>1</th>\n",
       "      <td>Wednesday</td>\n",
       "      <td>Mostly Sunnythen Sunnyand Breezy</td>\n",
       "      <td>High: 72 °F</td>\n",
       "      <td>Wednesday: Partly sunny, then gradually becomi...</td>\n",
       "    </tr>\n",
       "    <tr>\n",
       "      <th>2</th>\n",
       "      <td>WednesdayNight</td>\n",
       "      <td>IncreasingClouds</td>\n",
       "      <td>Low: 59 °F</td>\n",
       "      <td>Wednesday Night: Increasing clouds, with a low...</td>\n",
       "    </tr>\n",
       "    <tr>\n",
       "      <th>3</th>\n",
       "      <td>Thursday</td>\n",
       "      <td>Mostly Sunnythen Sunnyand Breezy</td>\n",
       "      <td>High: 72 °F</td>\n",
       "      <td>Thursday: Mostly sunny, with a high near 72. B...</td>\n",
       "    </tr>\n",
       "    <tr>\n",
       "      <th>4</th>\n",
       "      <td>ThursdayNight</td>\n",
       "      <td>Mostly Clearand Breezythen PartlyCloudy</td>\n",
       "      <td>Low: 58 °F</td>\n",
       "      <td>Thursday Night: Partly cloudy, with a low arou...</td>\n",
       "    </tr>\n",
       "    <tr>\n",
       "      <th>5</th>\n",
       "      <td>Friday</td>\n",
       "      <td>Mostly Sunnythen Sunnyand Breezy</td>\n",
       "      <td>High: 71 °F</td>\n",
       "      <td>Friday: Mostly sunny, with a high near 71. Bre...</td>\n",
       "    </tr>\n",
       "    <tr>\n",
       "      <th>6</th>\n",
       "      <td>FridayNight</td>\n",
       "      <td>Mostly Clearand Breezythen MostlyClear</td>\n",
       "      <td>Low: 58 °F</td>\n",
       "      <td>Friday Night: Mostly clear, with a low around ...</td>\n",
       "    </tr>\n",
       "    <tr>\n",
       "      <th>7</th>\n",
       "      <td>Saturday</td>\n",
       "      <td>Sunny</td>\n",
       "      <td>High: 72 °F</td>\n",
       "      <td>Saturday: Sunny, with a high near 72.</td>\n",
       "    </tr>\n",
       "    <tr>\n",
       "      <th>8</th>\n",
       "      <td>SaturdayNight</td>\n",
       "      <td>Mostly Clear</td>\n",
       "      <td>Low: 58 °F</td>\n",
       "      <td>Saturday Night: Mostly clear, with a low aroun...</td>\n",
       "    </tr>\n",
       "  </tbody>\n",
       "</table>\n",
       "</div>\n",
       "      <button class=\"colab-df-convert\" onclick=\"convertToInteractive('df-80923918-d24e-4d11-b32a-f310732967a0')\"\n",
       "              title=\"Convert this dataframe to an interactive table.\"\n",
       "              style=\"display:none;\">\n",
       "        \n",
       "  <svg xmlns=\"http://www.w3.org/2000/svg\" height=\"24px\"viewBox=\"0 0 24 24\"\n",
       "       width=\"24px\">\n",
       "    <path d=\"M0 0h24v24H0V0z\" fill=\"none\"/>\n",
       "    <path d=\"M18.56 5.44l.94 2.06.94-2.06 2.06-.94-2.06-.94-.94-2.06-.94 2.06-2.06.94zm-11 1L8.5 8.5l.94-2.06 2.06-.94-2.06-.94L8.5 2.5l-.94 2.06-2.06.94zm10 10l.94 2.06.94-2.06 2.06-.94-2.06-.94-.94-2.06-.94 2.06-2.06.94z\"/><path d=\"M17.41 7.96l-1.37-1.37c-.4-.4-.92-.59-1.43-.59-.52 0-1.04.2-1.43.59L10.3 9.45l-7.72 7.72c-.78.78-.78 2.05 0 2.83L4 21.41c.39.39.9.59 1.41.59.51 0 1.02-.2 1.41-.59l7.78-7.78 2.81-2.81c.8-.78.8-2.07 0-2.86zM5.41 20L4 18.59l7.72-7.72 1.47 1.35L5.41 20z\"/>\n",
       "  </svg>\n",
       "      </button>\n",
       "      \n",
       "  <style>\n",
       "    .colab-df-container {\n",
       "      display:flex;\n",
       "      flex-wrap:wrap;\n",
       "      gap: 12px;\n",
       "    }\n",
       "\n",
       "    .colab-df-convert {\n",
       "      background-color: #E8F0FE;\n",
       "      border: none;\n",
       "      border-radius: 50%;\n",
       "      cursor: pointer;\n",
       "      display: none;\n",
       "      fill: #1967D2;\n",
       "      height: 32px;\n",
       "      padding: 0 0 0 0;\n",
       "      width: 32px;\n",
       "    }\n",
       "\n",
       "    .colab-df-convert:hover {\n",
       "      background-color: #E2EBFA;\n",
       "      box-shadow: 0px 1px 2px rgba(60, 64, 67, 0.3), 0px 1px 3px 1px rgba(60, 64, 67, 0.15);\n",
       "      fill: #174EA6;\n",
       "    }\n",
       "\n",
       "    [theme=dark] .colab-df-convert {\n",
       "      background-color: #3B4455;\n",
       "      fill: #D2E3FC;\n",
       "    }\n",
       "\n",
       "    [theme=dark] .colab-df-convert:hover {\n",
       "      background-color: #434B5C;\n",
       "      box-shadow: 0px 1px 3px 1px rgba(0, 0, 0, 0.15);\n",
       "      filter: drop-shadow(0px 1px 2px rgba(0, 0, 0, 0.3));\n",
       "      fill: #FFFFFF;\n",
       "    }\n",
       "  </style>\n",
       "\n",
       "      <script>\n",
       "        const buttonEl =\n",
       "          document.querySelector('#df-80923918-d24e-4d11-b32a-f310732967a0 button.colab-df-convert');\n",
       "        buttonEl.style.display =\n",
       "          google.colab.kernel.accessAllowed ? 'block' : 'none';\n",
       "\n",
       "        async function convertToInteractive(key) {\n",
       "          const element = document.querySelector('#df-80923918-d24e-4d11-b32a-f310732967a0');\n",
       "          const dataTable =\n",
       "            await google.colab.kernel.invokeFunction('convertToInteractive',\n",
       "                                                     [key], {});\n",
       "          if (!dataTable) return;\n",
       "\n",
       "          const docLinkHtml = 'Like what you see? Visit the ' +\n",
       "            '<a target=\"_blank\" href=https://colab.research.google.com/notebooks/data_table.ipynb>data table notebook</a>'\n",
       "            + ' to learn more about interactive tables.';\n",
       "          element.innerHTML = '';\n",
       "          dataTable['output_type'] = 'display_data';\n",
       "          await google.colab.output.renderOutput(dataTable, element);\n",
       "          const docLink = document.createElement('div');\n",
       "          docLink.innerHTML = docLinkHtml;\n",
       "          element.appendChild(docLink);\n",
       "        }\n",
       "      </script>\n",
       "    </div>\n",
       "  </div>\n",
       "  "
      ],
      "text/plain": [
       "           period                               short_desc         temp  \\\n",
       "0       Overnight                            Mostly Cloudy   Low: 60 °F   \n",
       "1       Wednesday         Mostly Sunnythen Sunnyand Breezy  High: 72 °F   \n",
       "2  WednesdayNight                         IncreasingClouds   Low: 59 °F   \n",
       "3        Thursday         Mostly Sunnythen Sunnyand Breezy  High: 72 °F   \n",
       "4   ThursdayNight  Mostly Clearand Breezythen PartlyCloudy   Low: 58 °F   \n",
       "5          Friday         Mostly Sunnythen Sunnyand Breezy  High: 71 °F   \n",
       "6     FridayNight   Mostly Clearand Breezythen MostlyClear   Low: 58 °F   \n",
       "7        Saturday                                    Sunny  High: 72 °F   \n",
       "8   SaturdayNight                             Mostly Clear   Low: 58 °F   \n",
       "\n",
       "                                                desc  \n",
       "0  Overnight: Mostly cloudy, with a low around 60...  \n",
       "1  Wednesday: Partly sunny, then gradually becomi...  \n",
       "2  Wednesday Night: Increasing clouds, with a low...  \n",
       "3  Thursday: Mostly sunny, with a high near 72. B...  \n",
       "4  Thursday Night: Partly cloudy, with a low arou...  \n",
       "5  Friday: Mostly sunny, with a high near 71. Bre...  \n",
       "6  Friday Night: Mostly clear, with a low around ...  \n",
       "7              Saturday: Sunny, with a high near 72.  \n",
       "8  Saturday Night: Mostly clear, with a low aroun...  "
      ]
     },
     "execution_count": 10,
     "metadata": {},
     "output_type": "execute_result"
    }
   ],
   "source": [
    "import pandas as pd\n",
    "weather = pd.DataFrame({\n",
    "    \"period\": periods,\n",
    "    \"short_desc\": short_descs,\n",
    "    \"temp\": temps,\n",
    "    \"desc\":descs\n",
    "})\n",
    "weather"
   ]
  },
  {
   "cell_type": "code",
   "execution_count": null,
   "metadata": {
    "id": "FrvHg-PWpn9W"
   },
   "outputs": [],
   "source": []
  }
 ],
 "metadata": {
  "colab": {
   "provenance": []
  },
  "kernelspec": {
   "display_name": "Python 3",
   "language": "python",
   "name": "python3"
  },
  "language_info": {
   "codemirror_mode": {
    "name": "ipython",
    "version": 3
   },
   "file_extension": ".py",
   "mimetype": "text/x-python",
   "name": "python",
   "nbconvert_exporter": "python",
   "pygments_lexer": "ipython3",
   "version": "3.8.8"
  }
 },
 "nbformat": 4,
 "nbformat_minor": 1
}
