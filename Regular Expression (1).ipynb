{
 "cells": [
  {
   "cell_type": "code",
   "execution_count": 1,
   "metadata": {
    "id": "KT269UgrSOqo"
   },
   "outputs": [],
   "source": [
    "import re # r=regular e=expressions\n",
    "# import math\n",
    "# math.sqrt"
   ]
  },
  {
   "cell_type": "code",
   "execution_count": 2,
   "metadata": {
    "id": "v1ShFmm6SXwP"
   },
   "outputs": [],
   "source": []
  },
  {
   "cell_type": "code",
   "execution_count": 11,
   "metadata": {
    "colab": {
     "base_uri": "https://localhost:8080/"
    },
    "executionInfo": {
     "elapsed": 39,
     "status": "ok",
     "timestamp": 1680505307918,
     "user": {
      "displayName": "Priyanka Awaje",
      "userId": "04948741848315503765"
     },
     "user_tz": -330
    },
    "id": "el89CSecSjk2",
    "outputId": "b334f7c8-1dae-4eb0-cd51-ed57fa5220b7"
   },
   "outputs": [
    {
     "name": "stdout",
     "output_type": "stream",
     "text": [
      "10\n",
      "26\n",
      "<re.Match object; span=(10, 26), match='Machine learning'>\n"
     ]
    }
   ],
   "source": [
    "text=\"Therefore Machine learning is a branch of Machine learning (AI) and computer science which focuses on the use of data and algorithms to imitate the way that humans learn, gradually improving its accuracy computer science.\"\n",
    "string=\"Machine learning\"\n",
    "result=re.search(string,text)\n",
    "print(result.start())\n",
    "print(result.end())\n",
    "print(result)"
   ]
  },
  {
   "cell_type": "code",
   "execution_count": 10,
   "metadata": {
    "colab": {
     "base_uri": "https://localhost:8080/"
    },
    "executionInfo": {
     "elapsed": 38,
     "status": "ok",
     "timestamp": 1680505307919,
     "user": {
      "displayName": "Priyanka Awaje",
      "userId": "04948741848315503765"
     },
     "user_tz": -330
    },
    "id": "V2tg6VcPS4co",
    "outputId": "a1b2aabe-1a42-42b5-fd76-80fcab0550c8"
   },
   "outputs": [
    {
     "name": "stdout",
     "output_type": "stream",
     "text": [
      "machine learning starts at position 10\n",
      "machine learning ends at position 26\n"
     ]
    }
   ],
   "source": [
    "print(\"machine learning starts at position\",result.start())\n",
    "print(\"machine learning ends at position\",result.end())"
   ]
  },
  {
   "cell_type": "code",
   "execution_count": null,
   "metadata": {
    "colab": {
     "base_uri": "https://localhost:8080/"
    },
    "executionInfo": {
     "elapsed": 35,
     "status": "ok",
     "timestamp": 1680505307919,
     "user": {
      "displayName": "Priyanka Awaje",
      "userId": "04948741848315503765"
     },
     "user_tz": -330
    },
    "id": "b5mL8WNKTOCd",
    "outputId": "ea37ef8a-5a30-4a92-ee7b-268a27779b61"
   },
   "outputs": [
    {
     "name": "stdout",
     "output_type": "stream",
     "text": [
      "<re.Match object; span=(65, 81), match='computer science'>\n"
     ]
    }
   ],
   "source": [
    "p2=\"computer science\"\n",
    "m2=re.search(\"computer science\",s1)\n",
    "print(m2)"
   ]
  },
  {
   "cell_type": "markdown",
   "metadata": {
    "id": "C-1ZOqKUUG_a"
   },
   "source": [
    "# 2. re.match()"
   ]
  },
  {
   "cell_type": "code",
   "execution_count": null,
   "metadata": {
    "colab": {
     "base_uri": "https://localhost:8080/"
    },
    "executionInfo": {
     "elapsed": 33,
     "status": "ok",
     "timestamp": 1680505307919,
     "user": {
      "displayName": "Priyanka Awaje",
      "userId": "04948741848315503765"
     },
     "user_tz": -330
    },
    "id": "h9TXBydVTg6m",
    "outputId": "d1e9228c-95bc-476e-9273-3fd83e1c5541"
   },
   "outputs": [
    {
     "name": "stdout",
     "output_type": "stream",
     "text": [
      "<re.Match object; span=(0, 16), match='Machine learning'>\n"
     ]
    }
   ],
   "source": [
    "m3=re.match(p1,s1)\n",
    "print(m3)"
   ]
  },
  {
   "cell_type": "code",
   "execution_count": null,
   "metadata": {
    "colab": {
     "base_uri": "https://localhost:8080/"
    },
    "executionInfo": {
     "elapsed": 33,
     "status": "ok",
     "timestamp": 1680505307920,
     "user": {
      "displayName": "Priyanka Awaje",
      "userId": "04948741848315503765"
     },
     "user_tz": -330
    },
    "id": "2D5jdCcDUP0W",
    "outputId": "ddb1b412-5c7a-410a-d297-b531e6a8029f"
   },
   "outputs": [
    {
     "name": "stdout",
     "output_type": "stream",
     "text": [
      "None\n"
     ]
    }
   ],
   "source": [
    "m3=re.match(p2,s1)\n",
    "print(m3)"
   ]
  },
  {
   "cell_type": "code",
   "execution_count": null,
   "metadata": {
    "colab": {
     "base_uri": "https://localhost:8080/"
    },
    "executionInfo": {
     "elapsed": 32,
     "status": "ok",
     "timestamp": 1680505307920,
     "user": {
      "displayName": "Priyanka Awaje",
      "userId": "04948741848315503765"
     },
     "user_tz": -330
    },
    "id": "hJWIfIV2UUXm",
    "outputId": "5da63d06-7ff4-46e1-969b-72bbd8ab0f8f"
   },
   "outputs": [
    {
     "name": "stdout",
     "output_type": "stream",
     "text": [
      "<re.Match object; span=(1, 7), match='python'>\n",
      "<re.Match object; span=(8, 12), match='java'>\n"
     ]
    }
   ],
   "source": [
    "s2=\" python java tableau powerbi r\"\n",
    "p1=\"python\"\n",
    "p2=\"java\"\n",
    "m1=re.search(p1,s2)\n",
    "m2=re.search(p2,s2)\n",
    "print(m1)\n",
    "print(m2)"
   ]
  },
  {
   "cell_type": "code",
   "execution_count": null,
   "metadata": {
    "colab": {
     "base_uri": "https://localhost:8080/"
    },
    "executionInfo": {
     "elapsed": 30,
     "status": "ok",
     "timestamp": 1680505307920,
     "user": {
      "displayName": "Priyanka Awaje",
      "userId": "04948741848315503765"
     },
     "user_tz": -330
    },
    "id": "5qfLr7cVVHVX",
    "outputId": "b4a7f878-3b6c-40a3-b642-ee3124a3accc"
   },
   "outputs": [
    {
     "name": "stdout",
     "output_type": "stream",
     "text": [
      "<re.Match object; span=(0, 6), match='python'>\n",
      "None\n"
     ]
    }
   ],
   "source": [
    "s2=\"python java tableau powerbi r\"\n",
    "p1=\"python\"\n",
    "p2=\"java\"\n",
    "m1=re.match(p1,s2)\n",
    "m2=re.match(p2,s2)\n",
    "print(m1)\n",
    "print(m2)"
   ]
  },
  {
   "cell_type": "markdown",
   "metadata": {
    "id": "txIhIV5lVhWq"
   },
   "source": [
    "# 3.re.findall()"
   ]
  },
  {
   "cell_type": "code",
   "execution_count": null,
   "metadata": {
    "colab": {
     "base_uri": "https://localhost:8080/"
    },
    "executionInfo": {
     "elapsed": 30,
     "status": "ok",
     "timestamp": 1680505307921,
     "user": {
      "displayName": "Priyanka Awaje",
      "userId": "04948741848315503765"
     },
     "user_tz": -330
    },
    "id": "8V2tEG7OVPWn",
    "outputId": "88465f24-95e9-43b0-c160-f7abc84580e4"
   },
   "outputs": [
    {
     "name": "stdout",
     "output_type": "stream",
     "text": [
      "['python', 'python', 'python']\n"
     ]
    }
   ],
   "source": [
    "s2=\"python java tableau powerbi r python python\"\n",
    "p1=\"python\"\n",
    "m1=re.findall(p1,s2)\n",
    "print(m1)"
   ]
  },
  {
   "cell_type": "markdown",
   "metadata": {
    "id": "-_KYyTkrWBGa"
   },
   "source": [
    "# 4.re.split()"
   ]
  },
  {
   "cell_type": "markdown",
   "metadata": {
    "id": "VwWgbMdTXIMZ"
   },
   "source": []
  },
  {
   "cell_type": "code",
   "execution_count": null,
   "metadata": {
    "colab": {
     "base_uri": "https://localhost:8080/"
    },
    "executionInfo": {
     "elapsed": 28,
     "status": "ok",
     "timestamp": 1680505307921,
     "user": {
      "displayName": "Priyanka Awaje",
      "userId": "04948741848315503765"
     },
     "user_tz": -330
    },
    "id": "S2gT-Xu-Vogw",
    "outputId": "f92677ca-d566-4e28-ee90-f831b52a95b3"
   },
   "outputs": [
    {
     "name": "stdout",
     "output_type": "stream",
     "text": [
      "['abc', 'gmail.com']\n",
      "Username:- abc\n",
      "Domain Name:- gmail.com\n"
     ]
    }
   ],
   "source": [
    "email=\"abc@gmail.com\"\n",
    "x=re.split(\"@\",email)\n",
    "print(x)\n",
    "print(\"Username:-\",x[0])\n",
    "print(\"Domain Name:-\",x[1])"
   ]
  },
  {
   "cell_type": "code",
   "execution_count": null,
   "metadata": {
    "colab": {
     "base_uri": "https://localhost:8080/"
    },
    "executionInfo": {
     "elapsed": 28,
     "status": "ok",
     "timestamp": 1680505307922,
     "user": {
      "displayName": "Priyanka Awaje",
      "userId": "04948741848315503765"
     },
     "user_tz": -330
    },
    "id": "dpjGV2oUWVWu",
    "outputId": "9ec8c2de-a7e8-482c-d6a2-03a212df2eda"
   },
   "outputs": [
    {
     "name": "stdout",
     "output_type": "stream",
     "text": [
      "['python', 'is', 'very', 'easy', 'language']\n"
     ]
    }
   ],
   "source": [
    "s3=\"python is very easy language\"\n",
    "words=re.split(\"\\s\",s3)\n",
    "print(words)"
   ]
  },
  {
   "cell_type": "code",
   "execution_count": null,
   "metadata": {
    "colab": {
     "base_uri": "https://localhost:8080/"
    },
    "executionInfo": {
     "elapsed": 27,
     "status": "ok",
     "timestamp": 1680505307922,
     "user": {
      "displayName": "Priyanka Awaje",
      "userId": "04948741848315503765"
     },
     "user_tz": -330
    },
    "id": "c___WSaUXHc6",
    "outputId": "a6cf037e-ef5b-40ea-a593-d1e530009b08"
   },
   "outputs": [
    {
     "name": "stdout",
     "output_type": "stream",
     "text": [
      "Yes,the string starts with python\n"
     ]
    }
   ],
   "source": [
    "#^:- startswith\n",
    "x=re.findall(\"^python\",s3)\n",
    "if x:\n",
    "  print(\"Yes,the string starts with python\")\n",
    "else:\n",
    "  print(\"No match\")"
   ]
  },
  {
   "cell_type": "code",
   "execution_count": null,
   "metadata": {
    "colab": {
     "base_uri": "https://localhost:8080/"
    },
    "executionInfo": {
     "elapsed": 25,
     "status": "ok",
     "timestamp": 1680505307923,
     "user": {
      "displayName": "Priyanka Awaje",
      "userId": "04948741848315503765"
     },
     "user_tz": -330
    },
    "id": "PqAi_XdAW9UB",
    "outputId": "d8b56605-4b07-40bb-800f-0b7b6f26d83c"
   },
   "outputs": [
    {
     "name": "stdout",
     "output_type": "stream",
     "text": [
      "Yes,the string ends with R\n"
     ]
    }
   ],
   "source": [
    "#$:-endswith\n",
    "s2=\"python java tableau powerbi r\"\n",
    "x=re.findall(\"r$\",s2)\n",
    "if x:\n",
    "  print(\"Yes,the string ends with R\")\n",
    "else:\n",
    "  print(\"No match\")"
   ]
  },
  {
   "cell_type": "code",
   "execution_count": null,
   "metadata": {
    "colab": {
     "base_uri": "https://localhost:8080/"
    },
    "executionInfo": {
     "elapsed": 29,
     "status": "ok",
     "timestamp": 1680505307929,
     "user": {
      "displayName": "Priyanka Awaje",
      "userId": "04948741848315503765"
     },
     "user_tz": -330
    },
    "id": "jymnHlzbYCJR",
    "outputId": "becbe26b-6262-4d40-f8e4-f11729f8a839"
   },
   "outputs": [
    {
     "name": "stdout",
     "output_type": "stream",
     "text": [
      "['python', 'java']\n",
      "Yes,there is a match\n"
     ]
    }
   ],
   "source": [
    "#|:-either or condition\n",
    "x=re.findall(\"python|java\",s2)\n",
    "print(x)\n",
    "if x:\n",
    "  print(\"Yes,there is a match\")\n",
    "else:\n",
    "  print(\"No match\")"
   ]
  },
  {
   "cell_type": "code",
   "execution_count": null,
   "metadata": {
    "colab": {
     "base_uri": "https://localhost:8080/"
    },
    "executionInfo": {
     "elapsed": 27,
     "status": "ok",
     "timestamp": 1680505307929,
     "user": {
      "displayName": "Priyanka Awaje",
      "userId": "04948741848315503765"
     },
     "user_tz": -330
    },
    "id": "5qGMND1dYoKx",
    "outputId": "1f65511b-99a8-4a42-f763-8d1e00801e4e"
   },
   "outputs": [
    {
     "name": "stdout",
     "output_type": "stream",
     "text": [
      "['python', 'python', 'python']\n"
     ]
    }
   ],
   "source": [
    "#+:- one or more occurances\n",
    "s2=\"python java tableau powerbi r python python\"\n",
    "x=re.findall(\"python+\",s2)\n",
    "print(x)"
   ]
  },
  {
   "cell_type": "code",
   "execution_count": null,
   "metadata": {
    "colab": {
     "base_uri": "https://localhost:8080/"
    },
    "executionInfo": {
     "elapsed": 26,
     "status": "ok",
     "timestamp": 1680505307930,
     "user": {
      "displayName": "Priyanka Awaje",
      "userId": "04948741848315503765"
     },
     "user_tz": -330
    },
    "id": "wVj0YlAkZCZO",
    "outputId": "4944cfed-b237-4d55-ef73-11a87091cef4"
   },
   "outputs": [
    {
     "name": "stdout",
     "output_type": "stream",
     "text": [
      "['python', 'python', 'python']\n"
     ]
    }
   ],
   "source": [
    "#*:- zero or more occurances\n",
    "x=re.findall(\"python*\",s2)\n",
    "print(x)"
   ]
  },
  {
   "cell_type": "code",
   "execution_count": null,
   "metadata": {
    "colab": {
     "base_uri": "https://localhost:8080/"
    },
    "executionInfo": {
     "elapsed": 25,
     "status": "ok",
     "timestamp": 1680505307930,
     "user": {
      "displayName": "Priyanka Awaje",
      "userId": "04948741848315503765"
     },
     "user_tz": -330
    },
    "id": "1m58OnbZZV24",
    "outputId": "06290f47-6b58-40d1-8efd-e1df97e584b1"
   },
   "outputs": [
    {
     "name": "stdout",
     "output_type": "stream",
     "text": [
      "['12', '45', '78', '34', '89', '56', '34', '67', '34', '56']\n"
     ]
    }
   ],
   "source": [
    "#\\d\n",
    "s1=\"My Roll no is 12 45 78 34 89 567 345 675 342 567\"\n",
    "x=re.findall(\"\\d\\d\",s1)\n",
    "print(x)"
   ]
  },
  {
   "cell_type": "code",
   "execution_count": null,
   "metadata": {
    "colab": {
     "base_uri": "https://localhost:8080/"
    },
    "executionInfo": {
     "elapsed": 24,
     "status": "ok",
     "timestamp": 1680505307931,
     "user": {
      "displayName": "Priyanka Awaje",
      "userId": "04948741848315503765"
     },
     "user_tz": -330
    },
    "id": "mBlbzmvKaYOn",
    "outputId": "ec37822f-b3ee-446f-df9e-b982c9692173"
   },
   "outputs": [
    {
     "name": "stdout",
     "output_type": "stream",
     "text": [
      "['Priyanka', 'Pratik', 'Pooja']\n"
     ]
    }
   ],
   "source": [
    "s2=\"my name is Priyanka  akash  Pratik  Pooja\"\n",
    "#[A-Z]:-single capital letter\n",
    "#[a-z]:-sing;w small letter\n",
    "x=re.findall(\"[A-Z][a-z]*\",s2)\n",
    "print(x)"
   ]
  },
  {
   "cell_type": "code",
   "execution_count": null,
   "metadata": {
    "colab": {
     "base_uri": "https://localhost:8080/"
    },
    "executionInfo": {
     "elapsed": 23,
     "status": "ok",
     "timestamp": 1680505307932,
     "user": {
      "displayName": "Priyanka Awaje",
      "userId": "04948741848315503765"
     },
     "user_tz": -330
    },
    "id": "fYsIKe-Jcejg",
    "outputId": "848ff837-5365-43d9-901d-27b9ea4fa1af"
   },
   "outputs": [
    {
     "name": "stdout",
     "output_type": "stream",
     "text": [
      "['9812123456', '5678912345', '4567891234']\n"
     ]
    }
   ],
   "source": [
    "s5='9812123456 5678912345  456789123456   567891234'\n",
    "x=re.findall(\"\\d\\d\\d\\d\\d\\d\\d\\d\\d\\d\",s5)\n",
    "print(x)"
   ]
  },
  {
   "cell_type": "code",
   "execution_count": null,
   "metadata": {
    "colab": {
     "base_uri": "https://localhost:8080/"
    },
    "executionInfo": {
     "elapsed": 593,
     "status": "ok",
     "timestamp": 1680505308504,
     "user": {
      "displayName": "Priyanka Awaje",
      "userId": "04948741848315503765"
     },
     "user_tz": -330
    },
    "id": "xk3XYSmkdhwi",
    "outputId": "d475e907-4eb2-4d77-e7fd-2ac75033f709"
   },
   "outputs": [
    {
     "name": "stdout",
     "output_type": "stream",
     "text": [
      "['9812123456', '5678912345', '4567891234']\n"
     ]
    }
   ],
   "source": [
    "s5='9812123456 5678912345  456789123456   567891234'\n",
    "x=re.findall(\"\\d{10}\",s5)\n",
    "print(x)"
   ]
  },
  {
   "cell_type": "code",
   "execution_count": null,
   "metadata": {
    "colab": {
     "base_uri": "https://localhost:8080/"
    },
    "executionInfo": {
     "elapsed": 12,
     "status": "ok",
     "timestamp": 1680505308505,
     "user": {
      "displayName": "Priyanka Awaje",
      "userId": "04948741848315503765"
     },
     "user_tz": -330
    },
    "id": "8apK4uYjd0M4",
    "outputId": "4087f37f-445a-4ae0-ea71-990ea220d0e8"
   },
   "outputs": [
    {
     "name": "stdout",
     "output_type": "stream",
     "text": [
      "['9812123456']\n"
     ]
    }
   ],
   "source": [
    "s5='9812123456 5678912345  456789123456   567891234'\n",
    "x=re.findall(\"[7-9]\\d{9}\",s5)\n",
    "print(x)"
   ]
  },
  {
   "cell_type": "code",
   "execution_count": null,
   "metadata": {
    "colab": {
     "base_uri": "https://localhost:8080/"
    },
    "executionInfo": {
     "elapsed": 10,
     "status": "ok",
     "timestamp": 1680505308505,
     "user": {
      "displayName": "Priyanka Awaje",
      "userId": "04948741848315503765"
     },
     "user_tz": -330
    },
    "id": "Xe2B2BGWeTDP",
    "outputId": "f69dce46-3886-4140-feb2-4be9b48661c9"
   },
   "outputs": [
    {
     "name": "stdout",
     "output_type": "stream",
     "text": [
      "['234 567-8763', '234-578-8763']\n"
     ]
    }
   ],
   "source": [
    "text = \"today is Jan 28, 2022 and tomorrow call me at 234 567-8763 or 234-578-8763\"\n",
    "p1=\"\\d{3}\\s\\d{3}-\\d{4}|\\d{3}-\\d{3}-\\d{4}\"\n",
    "p2=\"\\d{3}[\\s-]\\d{3}-\\d{4}\"\n",
    "x=re.findall(p1,text)\n",
    "print(x)"
   ]
  },
  {
   "cell_type": "code",
   "execution_count": null,
   "metadata": {
    "colab": {
     "base_uri": "https://localhost:8080/"
    },
    "executionInfo": {
     "elapsed": 8,
     "status": "ok",
     "timestamp": 1680505314890,
     "user": {
      "displayName": "Priyanka Awaje",
      "userId": "04948741848315503765"
     },
     "user_tz": -330
    },
    "id": "xifAwSebgDRJ",
    "outputId": "749a775f-d00a-4775-c653-31b0de9cf082"
   },
   "outputs": [
    {
     "name": "stdout",
     "output_type": "stream",
     "text": [
      "['234 567-8763', '234-578-8763']\n"
     ]
    }
   ],
   "source": [
    "y=re.findall(p2,text)\n",
    "print(y)"
   ]
  },
  {
   "cell_type": "code",
   "execution_count": null,
   "metadata": {
    "colab": {
     "base_uri": "https://localhost:8080/"
    },
    "executionInfo": {
     "elapsed": 3,
     "status": "ok",
     "timestamp": 1680505315432,
     "user": {
      "displayName": "Priyanka Awaje",
      "userId": "04948741848315503765"
     },
     "user_tz": -330
    },
    "id": "XeVjQDgpgI80",
    "outputId": "303f98b1-7265-4c7f-94e5-4d9025812503"
   },
   "outputs": [
    {
     "name": "stdout",
     "output_type": "stream",
     "text": [
      "Tomorrow we are going to watch movie and after that dinner. Rohan you will inform John, kartik and Manisha. Their numbers are +91 8124564397, +91 (755) 322 6754 and +1 (812)-654-6754. Please do't forget to call them. \n"
     ]
    }
   ],
   "source": [
    "text = \"Tomorrow we are going to watch movie and after that dinner. Rohan you will inform \\\n",
    "John, kartik and Manisha. Their numbers are +91 8124564397, +91 (755) 322 6754 and +1 (812)-654-6754. \\\n",
    "Please do't forget to call them. \"\n",
    "print(text)"
   ]
  },
  {
   "cell_type": "code",
   "execution_count": null,
   "metadata": {
    "colab": {
     "base_uri": "https://localhost:8080/"
    },
    "executionInfo": {
     "elapsed": 4,
     "status": "ok",
     "timestamp": 1680505316010,
     "user": {
      "displayName": "Priyanka Awaje",
      "userId": "04948741848315503765"
     },
     "user_tz": -330
    },
    "id": "HdGna3Ka5LAe",
    "outputId": "b23f09ef-1f1b-44b8-890f-e8c0d6d124b0"
   },
   "outputs": [
    {
     "name": "stdout",
     "output_type": "stream",
     "text": [
      "['+91 8124564397', '+91 (755) 322 6754', '+1 (812)-654-6754']\n"
     ]
    }
   ],
   "source": [
    "p1=\"\\+\\d{1,2}\\s\\d{10}|\\+\\d{1,2}\\s[(]\\d{3}[)][\\s-]\\d{3}[\\s-]\\d{4}\"\n",
    "x=re.findall(p1,text)\n",
    "print(x)"
   ]
  },
  {
   "cell_type": "code",
   "execution_count": null,
   "metadata": {
    "colab": {
     "base_uri": "https://localhost:8080/"
    },
    "executionInfo": {
     "elapsed": 3,
     "status": "ok",
     "timestamp": 1680505884306,
     "user": {
      "displayName": "Priyanka Awaje",
      "userId": "04948741848315503765"
     },
     "user_tz": -330
    },
    "id": "No0zt96U7B2B",
    "outputId": "66fd4c73-b2be-44cd-aadd-bb8ce670b5e0"
   },
   "outputs": [
    {
     "name": "stdout",
     "output_type": "stream",
     "text": [
      "05/3/2017  3/01/2017 1/6/17  34/11/937 may 21, 2017 21st mar 2017\n"
     ]
    }
   ],
   "source": [
    "text =  \"05/3/2017  3/01/2017 1/6/17  34/11/937 may 21, 2017 21st mar 2017\"\n",
    "print(text)"
   ]
  },
  {
   "cell_type": "code",
   "execution_count": null,
   "metadata": {
    "id": "JcqZAaFq9MiA"
   },
   "outputs": [],
   "source": [
    "day=r\"(0?[1-9]|1?[0-9]|2?[0-9]|3?[0,1])\"\n",
    "month=r\"(0?[0-9]|1?[0-2])\"\n",
    "year=\"(19[0-9]{2}|20[0-9]{2})\"\n",
    "sep=\"/\""
   ]
  },
  {
   "cell_type": "code",
   "execution_count": null,
   "metadata": {
    "colab": {
     "base_uri": "https://localhost:8080/"
    },
    "executionInfo": {
     "elapsed": 3,
     "status": "ok",
     "timestamp": 1680508090266,
     "user": {
      "displayName": "Priyanka Awaje",
      "userId": "04948741848315503765"
     },
     "user_tz": -330
    },
    "id": "cnhjS4yMFYGS",
    "outputId": "95e3c4d8-d7ce-4d32-c402-561321e6411b"
   },
   "outputs": [
    {
     "name": "stdout",
     "output_type": "stream",
     "text": [
      "(0?[1-9]|1?[0-9]|2?[0-9]|3?[0,1])/(0?[0-9]|1?[0-2])/(19[0-9]{2}|20[0-9]{2})\n"
     ]
    }
   ],
   "source": [
    "pattern=day+sep+month+sep+year\n",
    "print(pattern)"
   ]
  },
  {
   "cell_type": "code",
   "execution_count": null,
   "metadata": {
    "colab": {
     "base_uri": "https://localhost:8080/"
    },
    "executionInfo": {
     "elapsed": 3,
     "status": "ok",
     "timestamp": 1680508179849,
     "user": {
      "displayName": "Priyanka Awaje",
      "userId": "04948741848315503765"
     },
     "user_tz": -330
    },
    "id": "eo5FAESRFnQh",
    "outputId": "db02345b-4581-4b56-9a88-8177e1a9cafd"
   },
   "outputs": [
    {
     "name": "stdout",
     "output_type": "stream",
     "text": [
      "[('05', '3', '2017'), ('3', '01', '2017')]\n"
     ]
    }
   ],
   "source": [
    "m2=re.findall(pattern,text)\n",
    "print(m2)"
   ]
  },
  {
   "cell_type": "code",
   "execution_count": null,
   "metadata": {
    "colab": {
     "base_uri": "https://localhost:8080/"
    },
    "executionInfo": {
     "elapsed": 3,
     "status": "ok",
     "timestamp": 1680508243095,
     "user": {
      "displayName": "Priyanka Awaje",
      "userId": "04948741848315503765"
     },
     "user_tz": -330
    },
    "id": "Q-DppXvBF7cX",
    "outputId": "07fe6837-9e58-4e21-962d-ffb1f7499f06"
   },
   "outputs": [
    {
     "name": "stdout",
     "output_type": "stream",
     "text": [
      "<re.Match object; span=(0, 9), match='05/3/2017'>\n",
      "<re.Match object; span=(11, 20), match='3/01/2017'>\n"
     ]
    }
   ],
   "source": [
    "m2=re.finditer(pattern,text)\n",
    "for i in m2:\n",
    "  print(i)"
   ]
  },
  {
   "cell_type": "markdown",
   "metadata": {
    "id": "13691ST5Nk3a"
   },
   "source": [
    "# Email ID"
   ]
  },
  {
   "cell_type": "code",
   "execution_count": null,
   "metadata": {
    "id": "g03bdJZcMtSY"
   },
   "outputs": [],
   "source": [
    "candidates = [\n",
    "    'info@xcelvations.com',\n",
    "    'nutan.xcelvations@gmail.com',\n",
    "    'training@mail.xcelvations.com',\n",
    "    'training123@xcelvations.in',\n",
    "    'not-valid@example.zoo',\n",
    "    'nutan@yahoo.com',\n",
    "    'john_mathew@yahoo.xyz'\n",
    "]"
   ]
  },
  {
   "cell_type": "code",
   "execution_count": null,
   "metadata": {
    "id": "9A5nYFCeGHSn"
   },
   "outputs": [],
   "source": [
    "gmail=r\"\\w[a-zA-Z0-9_.]*@gmail[.]com\"\n",
    "mail=r\"\\w[a-zA-Z0-9_.]*@[\\w\\.]+(com|in)\""
   ]
  },
  {
   "cell_type": "code",
   "execution_count": null,
   "metadata": {
    "id": "Hpe_pyFcMl5g"
   },
   "outputs": [],
   "source": [
    "address=re.compile(mail)"
   ]
  },
  {
   "cell_type": "code",
   "execution_count": null,
   "metadata": {
    "colab": {
     "base_uri": "https://localhost:8080/"
    },
    "executionInfo": {
     "elapsed": 4,
     "status": "ok",
     "timestamp": 1680510161950,
     "user": {
      "displayName": "Priyanka Awaje",
      "userId": "04948741848315503765"
     },
     "user_tz": -330
    },
    "id": "FN-jL1uiM3tP",
    "outputId": "2b6859c6-16f0-4cd0-adc3-65ab5e9906a9"
   },
   "outputs": [
    {
     "name": "stdout",
     "output_type": "stream",
     "text": [
      "<re.Match object; span=(0, 20), match='info@xcelvations.com'>\n",
      "match\n",
      "<re.Match object; span=(0, 27), match='nutan.xcelvations@gmail.com'>\n",
      "match\n",
      "<re.Match object; span=(0, 29), match='training@mail.xcelvations.com'>\n",
      "match\n",
      "<re.Match object; span=(0, 26), match='training123@xcelvations.in'>\n",
      "match\n",
      "no match\n",
      "<re.Match object; span=(0, 15), match='nutan@yahoo.com'>\n",
      "match\n",
      "no match\n"
     ]
    }
   ],
   "source": [
    "for i in candidates:\n",
    "  match=address.search(i)\n",
    "    if match:\n",
    "    print(match)\n",
    "    print(\"match\")\n",
    "  else:\n",
    "    print(\"no match\")"
   ]
  },
  {
   "cell_type": "code",
   "execution_count": null,
   "metadata": {
    "colab": {
     "base_uri": "https://localhost:8080/"
    },
    "executionInfo": {
     "elapsed": 3,
     "status": "ok",
     "timestamp": 1680510565503,
     "user": {
      "displayName": "Priyanka Awaje",
      "userId": "04948741848315503765"
     },
     "user_tz": -330
    },
    "id": "_RIfFbmzNN2H",
    "outputId": "fab385f9-2f3a-458b-c6a3-330b1801641b"
   },
   "outputs": [
    {
     "name": "stdout",
     "output_type": "stream",
     "text": [
      "1233634@48@@@@@@@@@@@@@@@@@@\n"
     ]
    }
   ],
   "source": [
    "s1=\"1233634t48dhsjfbklsfjhfjglgg\"\n",
    "r=re.sub(\"[a-z]\",\"@\",s1)\n",
    "print(r)"
   ]
  },
  {
   "cell_type": "code",
   "execution_count": null,
   "metadata": {
    "colab": {
     "base_uri": "https://localhost:8080/"
    },
    "executionInfo": {
     "elapsed": 690,
     "status": "ok",
     "timestamp": 1680510693731,
     "user": {
      "displayName": "Priyanka Awaje",
      "userId": "04948741848315503765"
     },
     "user_tz": -330
    },
    "id": "LG9JET-xPDId",
    "outputId": "11de2fc8-1500-4b3f-e9f1-c093d87c80ae"
   },
   "outputs": [
    {
     "name": "stdout",
     "output_type": "stream",
     "text": [
      "('1233634@48@@@@@@@@@@@@@@@@@@', 19)\n",
      "Replaed String 1233634@48@@@@@@@@@@@@@@@@@@\n",
      "Number of Replacement:- 19\n"
     ]
    }
   ],
   "source": [
    "s1=\"1233634t48dhsjfbklsfjhfjglgg\"\n",
    "r=re.subn(\"[a-z]\",\"@\",s1)\n",
    "print(r)\n",
    "print(\"Replaed String\",r[0])\n",
    "print(\"Number of Replacement:-\",r[1])"
   ]
  },
  {
   "cell_type": "code",
   "execution_count": null,
   "metadata": {
    "id": "F-28QKBgPQ13"
   },
   "outputs": [],
   "source": []
  }
 ],
 "metadata": {
  "colab": {
   "provenance": []
  },
  "kernelspec": {
   "display_name": "Python 3",
   "language": "python",
   "name": "python3"
  },
  "language_info": {
   "codemirror_mode": {
    "name": "ipython",
    "version": 3
   },
   "file_extension": ".py",
   "mimetype": "text/x-python",
   "name": "python",
   "nbconvert_exporter": "python",
   "pygments_lexer": "ipython3",
   "version": "3.8.8"
  }
 },
 "nbformat": 4,
 "nbformat_minor": 1
}
